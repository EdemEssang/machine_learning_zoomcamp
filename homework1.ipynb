{
 "cells": [
  {
   "cell_type": "code",
   "execution_count": 6,
   "id": "9f4a5e5b",
   "metadata": {},
   "outputs": [],
   "source": [
    "import pandas as pd\n",
    "\n",
    "#Redaing the CSV file into a DataFrame\n",
    "df = pd.read_csv('car_fuel_efficiency.csv')"
   ]
  },
  {
   "cell_type": "markdown",
   "id": "4d10d936",
   "metadata": {},
   "source": [
    "# Q1. Pandas version"
   ]
  },
  {
   "cell_type": "code",
   "execution_count": 20,
   "id": "32e9b581",
   "metadata": {},
   "outputs": [
    {
     "data": {
      "text/plain": [
       "'2.2.2'"
      ]
     },
     "execution_count": 20,
     "metadata": {},
     "output_type": "execute_result"
    }
   ],
   "source": [
    "pd.__version__"
   ]
  },
  {
   "cell_type": "markdown",
   "id": "b3e84fd7",
   "metadata": {},
   "source": [
    "### Q2. Records Count"
   ]
  },
  {
   "cell_type": "code",
   "execution_count": null,
   "id": "df6a7601",
   "metadata": {},
   "outputs": [
    {
     "data": {
      "text/plain": [
       "RangeIndex(start=0, stop=9704, step=1)"
      ]
     },
     "execution_count": 13,
     "metadata": {},
     "output_type": "execute_result"
    }
   ],
   "source": [
    "df.head()"
   ]
  },
  {
   "cell_type": "code",
   "execution_count": 19,
   "id": "fa7bf4c6",
   "metadata": {},
   "outputs": [
    {
     "data": {
      "application/vnd.microsoft.datawrangler.viewer.v0+json": {
       "columns": [
        {
         "name": "index",
         "rawType": "object",
         "type": "string"
        },
        {
         "name": "engine_displacement",
         "rawType": "float64",
         "type": "float"
        },
        {
         "name": "num_cylinders",
         "rawType": "float64",
         "type": "float"
        },
        {
         "name": "horsepower",
         "rawType": "float64",
         "type": "float"
        },
        {
         "name": "vehicle_weight",
         "rawType": "float64",
         "type": "float"
        },
        {
         "name": "acceleration",
         "rawType": "float64",
         "type": "float"
        },
        {
         "name": "model_year",
         "rawType": "float64",
         "type": "float"
        },
        {
         "name": "num_doors",
         "rawType": "float64",
         "type": "float"
        },
        {
         "name": "fuel_efficiency_mpg",
         "rawType": "float64",
         "type": "float"
        }
       ],
       "ref": "e58c8e78-434a-4614-8682-356ce534f307",
       "rows": [
        [
         "count",
         "9704.0",
         "9222.0",
         "8996.0",
         "9704.0",
         "8774.0",
         "9704.0",
         "9202.0",
         "9704.0"
        ],
        [
         "mean",
         "199.70836768342951",
         "3.962481023639124",
         "149.65729212983547",
         "3001.280993373135",
         "15.021928424891724",
         "2011.484027205276",
         "-0.0064116496413823085",
         "14.985243228208573"
        ],
        [
         "std",
         "49.4553189938653",
         "1.9993225843926064",
         "29.879555200339446",
         "497.8948600311838",
         "2.510339293937879",
         "6.659807627820643",
         "1.048162111427726",
         "2.5564677028974288"
        ],
        [
         "min",
         "10.0",
         "0.0",
         "37.0",
         "952.6817606436496",
         "6.0",
         "2000.0",
         "-4.0",
         "6.200970533392815"
        ],
        [
         "25%",
         "170.0",
         "3.0",
         "130.0",
         "2666.2489848326345",
         "13.3",
         "2006.0",
         "-1.0",
         "13.267458637174174"
        ],
        [
         "50%",
         "200.0",
         "4.0",
         "149.0",
         "2993.2262961692163",
         "15.0",
         "2012.0",
         "0.0",
         "15.006036963481211"
        ],
        [
         "75%",
         "230.0",
         "5.0",
         "170.0",
         "3334.9570391969396",
         "16.7",
         "2017.0",
         "1.0",
         "16.707965306826786"
        ],
        [
         "max",
         "380.0",
         "13.0",
         "271.0",
         "4739.077089392099",
         "24.3",
         "2023.0",
         "4.0",
         "25.96722204888372"
        ]
       ],
       "shape": {
        "columns": 8,
        "rows": 8
       }
      },
      "text/html": [
       "<div>\n",
       "<style scoped>\n",
       "    .dataframe tbody tr th:only-of-type {\n",
       "        vertical-align: middle;\n",
       "    }\n",
       "\n",
       "    .dataframe tbody tr th {\n",
       "        vertical-align: top;\n",
       "    }\n",
       "\n",
       "    .dataframe thead th {\n",
       "        text-align: right;\n",
       "    }\n",
       "</style>\n",
       "<table border=\"1\" class=\"dataframe\">\n",
       "  <thead>\n",
       "    <tr style=\"text-align: right;\">\n",
       "      <th></th>\n",
       "      <th>engine_displacement</th>\n",
       "      <th>num_cylinders</th>\n",
       "      <th>horsepower</th>\n",
       "      <th>vehicle_weight</th>\n",
       "      <th>acceleration</th>\n",
       "      <th>model_year</th>\n",
       "      <th>num_doors</th>\n",
       "      <th>fuel_efficiency_mpg</th>\n",
       "    </tr>\n",
       "  </thead>\n",
       "  <tbody>\n",
       "    <tr>\n",
       "      <th>count</th>\n",
       "      <td>9704.000000</td>\n",
       "      <td>9222.000000</td>\n",
       "      <td>8996.000000</td>\n",
       "      <td>9704.000000</td>\n",
       "      <td>8774.000000</td>\n",
       "      <td>9704.000000</td>\n",
       "      <td>9202.000000</td>\n",
       "      <td>9704.000000</td>\n",
       "    </tr>\n",
       "    <tr>\n",
       "      <th>mean</th>\n",
       "      <td>199.708368</td>\n",
       "      <td>3.962481</td>\n",
       "      <td>149.657292</td>\n",
       "      <td>3001.280993</td>\n",
       "      <td>15.021928</td>\n",
       "      <td>2011.484027</td>\n",
       "      <td>-0.006412</td>\n",
       "      <td>14.985243</td>\n",
       "    </tr>\n",
       "    <tr>\n",
       "      <th>std</th>\n",
       "      <td>49.455319</td>\n",
       "      <td>1.999323</td>\n",
       "      <td>29.879555</td>\n",
       "      <td>497.894860</td>\n",
       "      <td>2.510339</td>\n",
       "      <td>6.659808</td>\n",
       "      <td>1.048162</td>\n",
       "      <td>2.556468</td>\n",
       "    </tr>\n",
       "    <tr>\n",
       "      <th>min</th>\n",
       "      <td>10.000000</td>\n",
       "      <td>0.000000</td>\n",
       "      <td>37.000000</td>\n",
       "      <td>952.681761</td>\n",
       "      <td>6.000000</td>\n",
       "      <td>2000.000000</td>\n",
       "      <td>-4.000000</td>\n",
       "      <td>6.200971</td>\n",
       "    </tr>\n",
       "    <tr>\n",
       "      <th>25%</th>\n",
       "      <td>170.000000</td>\n",
       "      <td>3.000000</td>\n",
       "      <td>130.000000</td>\n",
       "      <td>2666.248985</td>\n",
       "      <td>13.300000</td>\n",
       "      <td>2006.000000</td>\n",
       "      <td>-1.000000</td>\n",
       "      <td>13.267459</td>\n",
       "    </tr>\n",
       "    <tr>\n",
       "      <th>50%</th>\n",
       "      <td>200.000000</td>\n",
       "      <td>4.000000</td>\n",
       "      <td>149.000000</td>\n",
       "      <td>2993.226296</td>\n",
       "      <td>15.000000</td>\n",
       "      <td>2012.000000</td>\n",
       "      <td>0.000000</td>\n",
       "      <td>15.006037</td>\n",
       "    </tr>\n",
       "    <tr>\n",
       "      <th>75%</th>\n",
       "      <td>230.000000</td>\n",
       "      <td>5.000000</td>\n",
       "      <td>170.000000</td>\n",
       "      <td>3334.957039</td>\n",
       "      <td>16.700000</td>\n",
       "      <td>2017.000000</td>\n",
       "      <td>1.000000</td>\n",
       "      <td>16.707965</td>\n",
       "    </tr>\n",
       "    <tr>\n",
       "      <th>max</th>\n",
       "      <td>380.000000</td>\n",
       "      <td>13.000000</td>\n",
       "      <td>271.000000</td>\n",
       "      <td>4739.077089</td>\n",
       "      <td>24.300000</td>\n",
       "      <td>2023.000000</td>\n",
       "      <td>4.000000</td>\n",
       "      <td>25.967222</td>\n",
       "    </tr>\n",
       "  </tbody>\n",
       "</table>\n",
       "</div>"
      ],
      "text/plain": [
       "       engine_displacement  num_cylinders   horsepower  vehicle_weight  \\\n",
       "count          9704.000000    9222.000000  8996.000000     9704.000000   \n",
       "mean            199.708368       3.962481   149.657292     3001.280993   \n",
       "std              49.455319       1.999323    29.879555      497.894860   \n",
       "min              10.000000       0.000000    37.000000      952.681761   \n",
       "25%             170.000000       3.000000   130.000000     2666.248985   \n",
       "50%             200.000000       4.000000   149.000000     2993.226296   \n",
       "75%             230.000000       5.000000   170.000000     3334.957039   \n",
       "max             380.000000      13.000000   271.000000     4739.077089   \n",
       "\n",
       "       acceleration   model_year    num_doors  fuel_efficiency_mpg  \n",
       "count   8774.000000  9704.000000  9202.000000          9704.000000  \n",
       "mean      15.021928  2011.484027    -0.006412            14.985243  \n",
       "std        2.510339     6.659808     1.048162             2.556468  \n",
       "min        6.000000  2000.000000    -4.000000             6.200971  \n",
       "25%       13.300000  2006.000000    -1.000000            13.267459  \n",
       "50%       15.000000  2012.000000     0.000000            15.006037  \n",
       "75%       16.700000  2017.000000     1.000000            16.707965  \n",
       "max       24.300000  2023.000000     4.000000            25.967222  "
      ]
     },
     "execution_count": 19,
     "metadata": {},
     "output_type": "execute_result"
    }
   ],
   "source": [
    "df.describe()"
   ]
  },
  {
   "cell_type": "code",
   "execution_count": null,
   "id": "e3bd5546",
   "metadata": {},
   "outputs": [],
   "source": []
  },
  {
   "cell_type": "markdown",
   "id": "d72fc86a",
   "metadata": {},
   "source": [
    "#### Q4. Missing value"
   ]
  },
  {
   "cell_type": "code",
   "execution_count": 21,
   "id": "68ddbe23",
   "metadata": {},
   "outputs": [
    {
     "data": {
      "application/vnd.microsoft.datawrangler.viewer.v0+json": {
       "columns": [
        {
         "name": "index",
         "rawType": "object",
         "type": "string"
        },
        {
         "name": "0",
         "rawType": "int64",
         "type": "integer"
        }
       ],
       "ref": "8c760ca2-c3a3-4657-8754-21b0097f2d4d",
       "rows": [
        [
         "engine_displacement",
         "0"
        ],
        [
         "num_cylinders",
         "482"
        ],
        [
         "horsepower",
         "708"
        ],
        [
         "vehicle_weight",
         "0"
        ],
        [
         "acceleration",
         "930"
        ],
        [
         "model_year",
         "0"
        ],
        [
         "origin",
         "0"
        ],
        [
         "fuel_type",
         "0"
        ],
        [
         "drivetrain",
         "0"
        ],
        [
         "num_doors",
         "502"
        ],
        [
         "fuel_efficiency_mpg",
         "0"
        ]
       ],
       "shape": {
        "columns": 1,
        "rows": 11
       }
      },
      "text/plain": [
       "engine_displacement      0\n",
       "num_cylinders          482\n",
       "horsepower             708\n",
       "vehicle_weight           0\n",
       "acceleration           930\n",
       "model_year               0\n",
       "origin                   0\n",
       "fuel_type                0\n",
       "drivetrain               0\n",
       "num_doors              502\n",
       "fuel_efficiency_mpg      0\n",
       "dtype: int64"
      ]
     },
     "execution_count": 21,
     "metadata": {},
     "output_type": "execute_result"
    }
   ],
   "source": [
    "df.isnull().sum()"
   ]
  },
  {
   "cell_type": "markdown",
   "id": "030136e7",
   "metadata": {},
   "source": [
    "### Q5. Max fuel effieciency"
   ]
  },
  {
   "cell_type": "code",
   "execution_count": null,
   "id": "6373f415",
   "metadata": {},
   "outputs": [
    {
     "data": {
      "application/vnd.microsoft.datawrangler.viewer.v0+json": {
       "columns": [
        {
         "name": "index",
         "rawType": "int64",
         "type": "integer"
        },
        {
         "name": "origin",
         "rawType": "object",
         "type": "string"
        }
       ],
       "ref": "8fee7790-f0e8-4534-a0fd-51eaf4c32690",
       "rows": [
        [
         "0",
         "Europe"
        ],
        [
         "1",
         "USA"
        ],
        [
         "2",
         "Europe"
        ],
        [
         "3",
         "USA"
        ],
        [
         "4",
         "Europe"
        ],
        [
         "5",
         "Europe"
        ],
        [
         "6",
         "USA"
        ],
        [
         "7",
         "USA"
        ],
        [
         "8",
         "Asia"
        ],
        [
         "9",
         "USA"
        ],
        [
         "10",
         "Europe"
        ],
        [
         "11",
         "USA"
        ],
        [
         "12",
         "Asia"
        ],
        [
         "13",
         "Europe"
        ],
        [
         "14",
         "Asia"
        ],
        [
         "15",
         "USA"
        ],
        [
         "16",
         "Europe"
        ],
        [
         "17",
         "USA"
        ],
        [
         "18",
         "Europe"
        ],
        [
         "19",
         "Europe"
        ],
        [
         "20",
         "Asia"
        ],
        [
         "21",
         "Asia"
        ],
        [
         "22",
         "Europe"
        ],
        [
         "23",
         "Europe"
        ],
        [
         "24",
         "USA"
        ],
        [
         "25",
         "USA"
        ],
        [
         "26",
         "USA"
        ],
        [
         "27",
         "USA"
        ],
        [
         "28",
         "USA"
        ],
        [
         "29",
         "Europe"
        ],
        [
         "30",
         "USA"
        ],
        [
         "31",
         "Europe"
        ],
        [
         "32",
         "Europe"
        ],
        [
         "33",
         "USA"
        ],
        [
         "34",
         "Asia"
        ],
        [
         "35",
         "USA"
        ],
        [
         "36",
         "USA"
        ],
        [
         "37",
         "Europe"
        ],
        [
         "38",
         "Asia"
        ],
        [
         "39",
         "Europe"
        ],
        [
         "40",
         "Europe"
        ],
        [
         "41",
         "Europe"
        ],
        [
         "42",
         "USA"
        ],
        [
         "43",
         "Asia"
        ],
        [
         "44",
         "Asia"
        ],
        [
         "45",
         "USA"
        ],
        [
         "46",
         "USA"
        ],
        [
         "47",
         "Europe"
        ],
        [
         "48",
         "Asia"
        ],
        [
         "49",
         "Europe"
        ]
       ],
       "shape": {
        "columns": 1,
        "rows": 9704
       }
      },
      "text/html": [
       "<div>\n",
       "<style scoped>\n",
       "    .dataframe tbody tr th:only-of-type {\n",
       "        vertical-align: middle;\n",
       "    }\n",
       "\n",
       "    .dataframe tbody tr th {\n",
       "        vertical-align: top;\n",
       "    }\n",
       "\n",
       "    .dataframe thead th {\n",
       "        text-align: right;\n",
       "    }\n",
       "</style>\n",
       "<table border=\"1\" class=\"dataframe\">\n",
       "  <thead>\n",
       "    <tr style=\"text-align: right;\">\n",
       "      <th></th>\n",
       "      <th>origin</th>\n",
       "    </tr>\n",
       "  </thead>\n",
       "  <tbody>\n",
       "    <tr>\n",
       "      <th>0</th>\n",
       "      <td>Europe</td>\n",
       "    </tr>\n",
       "    <tr>\n",
       "      <th>1</th>\n",
       "      <td>USA</td>\n",
       "    </tr>\n",
       "    <tr>\n",
       "      <th>2</th>\n",
       "      <td>Europe</td>\n",
       "    </tr>\n",
       "    <tr>\n",
       "      <th>3</th>\n",
       "      <td>USA</td>\n",
       "    </tr>\n",
       "    <tr>\n",
       "      <th>4</th>\n",
       "      <td>Europe</td>\n",
       "    </tr>\n",
       "    <tr>\n",
       "      <th>...</th>\n",
       "      <td>...</td>\n",
       "    </tr>\n",
       "    <tr>\n",
       "      <th>9699</th>\n",
       "      <td>Europe</td>\n",
       "    </tr>\n",
       "    <tr>\n",
       "      <th>9700</th>\n",
       "      <td>USA</td>\n",
       "    </tr>\n",
       "    <tr>\n",
       "      <th>9701</th>\n",
       "      <td>USA</td>\n",
       "    </tr>\n",
       "    <tr>\n",
       "      <th>9702</th>\n",
       "      <td>USA</td>\n",
       "    </tr>\n",
       "    <tr>\n",
       "      <th>9703</th>\n",
       "      <td>Asia</td>\n",
       "    </tr>\n",
       "  </tbody>\n",
       "</table>\n",
       "<p>9704 rows × 1 columns</p>\n",
       "</div>"
      ],
      "text/plain": [
       "      origin\n",
       "0     Europe\n",
       "1        USA\n",
       "2     Europe\n",
       "3        USA\n",
       "4     Europe\n",
       "...      ...\n",
       "9699  Europe\n",
       "9700     USA\n",
       "9701     USA\n",
       "9702     USA\n",
       "9703    Asia\n",
       "\n",
       "[9704 rows x 1 columns]"
      ]
     },
     "execution_count": 30,
     "metadata": {},
     "output_type": "execute_result"
    }
   ],
   "source": [
    "df[['origin']]"
   ]
  },
  {
   "cell_type": "code",
   "execution_count": 7,
   "id": "2ec85e1d",
   "metadata": {},
   "outputs": [
    {
     "data": {
      "application/vnd.microsoft.datawrangler.viewer.v0+json": {
       "columns": [
        {
         "name": "index",
         "rawType": "int64",
         "type": "integer"
        },
        {
         "name": "engine_displacement",
         "rawType": "int64",
         "type": "integer"
        },
        {
         "name": "num_cylinders",
         "rawType": "float64",
         "type": "float"
        },
        {
         "name": "horsepower",
         "rawType": "float64",
         "type": "float"
        },
        {
         "name": "vehicle_weight",
         "rawType": "float64",
         "type": "float"
        },
        {
         "name": "acceleration",
         "rawType": "float64",
         "type": "float"
        },
        {
         "name": "model_year",
         "rawType": "int64",
         "type": "integer"
        },
        {
         "name": "origin",
         "rawType": "object",
         "type": "string"
        },
        {
         "name": "fuel_type",
         "rawType": "object",
         "type": "string"
        },
        {
         "name": "drivetrain",
         "rawType": "object",
         "type": "string"
        },
        {
         "name": "num_doors",
         "rawType": "float64",
         "type": "float"
        },
        {
         "name": "fuel_efficiency_mpg",
         "rawType": "float64",
         "type": "float"
        }
       ],
       "ref": "eccbaeea-c624-4eb4-9444-cf44a6407fa7",
       "rows": [
        [
         "8",
         "250",
         "1.0",
         "174.0",
         "2714.219309645285",
         "10.3",
         "2016",
         "Asia",
         "Diesel",
         "Front-wheel drive",
         "-1.0",
         "16.823553726916543"
        ],
        [
         "12",
         "320",
         "5.0",
         "145.0",
         "2783.8689742437728",
         "15.1",
         "2010",
         "Asia",
         "Diesel",
         "All-wheel drive",
         "1.0",
         "16.17581958009284"
        ],
        [
         "14",
         "200",
         "6.0",
         "160.0",
         "3582.687367715132",
         "14.9",
         "2007",
         "Asia",
         "Diesel",
         "All-wheel drive",
         "0.0",
         "11.871091010445811"
        ],
        [
         "20",
         "150",
         "3.0",
         "197.0",
         "2231.8081416029345",
         "18.7",
         "2011",
         "Asia",
         "Gasoline",
         "Front-wheel drive",
         "1.0",
         "18.88908257097108"
        ],
        [
         "21",
         "160",
         "4.0",
         "133.0",
         "2659.431450757995",
         null,
         "2016",
         "Asia",
         "Gasoline",
         "Front-wheel drive",
         "-1.0",
         "16.077730214491176"
        ],
        [
         "34",
         "150",
         "2.0",
         "149.0",
         "2844.2275338857653",
         "17.3",
         "2014",
         "Asia",
         "Diesel",
         "Front-wheel drive",
         "0.0",
         "15.353788201522017"
        ],
        [
         "38",
         "190",
         "5.0",
         "158.0",
         "3761.9940381922206",
         null,
         "2019",
         "Asia",
         "Gasoline",
         "Front-wheel drive",
         "1.0",
         "11.645724047561528"
        ],
        [
         "43",
         "170",
         "4.0",
         "123.0",
         "2957.6811098887447",
         "14.4",
         "2012",
         "Asia",
         "Diesel",
         "All-wheel drive",
         "-1.0",
         "15.039796931634644"
        ],
        [
         "44",
         "240",
         "2.0",
         "142.0",
         "2544.516801769428",
         "12.9",
         "2016",
         "Asia",
         "Gasoline",
         "All-wheel drive",
         "0.0",
         "17.600327865900464"
        ],
        [
         "48",
         "190",
         "5.0",
         "202.0",
         "2531.185247040718",
         "16.2",
         "2016",
         "Asia",
         "Gasoline",
         "All-wheel drive",
         "0.0",
         "17.983505227568678"
        ],
        [
         "51",
         "270",
         "3.0",
         "152.0",
         "2730.9471044643847",
         null,
         "2015",
         "Asia",
         "Diesel",
         "All-wheel drive",
         "-1.0",
         "15.82098165489468"
        ],
        [
         "57",
         "210",
         "5.0",
         "128.0",
         "3654.1395563912342",
         "17.3",
         "2015",
         "Asia",
         "Gasoline",
         "Front-wheel drive",
         null,
         "11.550323928127572"
        ],
        [
         "60",
         "240",
         "5.0",
         null,
         "2677.52170988898",
         "13.2",
         "2003",
         "Asia",
         "Diesel",
         "Front-wheel drive",
         "0.0",
         "16.31743149857548"
        ],
        [
         "74",
         "160",
         "6.0",
         "196.0",
         "2858.715432560616",
         "16.8",
         "2006",
         "Asia",
         "Gasoline",
         "All-wheel drive",
         "0.0",
         "16.138145622702815"
        ],
        [
         "76",
         "190",
         "4.0",
         "133.0",
         "3925.506911760992",
         "17.1",
         "2000",
         "Asia",
         "Gasoline",
         "Front-wheel drive",
         "0.0",
         "10.236175734106144"
        ],
        [
         "79",
         "210",
         "3.0",
         "152.0",
         "3429.169392019084",
         "16.8",
         "2012",
         "Asia",
         "Gasoline",
         "Front-wheel drive",
         "1.0",
         "12.919793266773633"
        ],
        [
         "87",
         "240",
         "0.0",
         "179.0",
         "2928.390984041444",
         "16.2",
         "2010",
         "Asia",
         "Diesel",
         "Front-wheel drive",
         "1.0",
         "15.1925413931655"
        ],
        [
         "88",
         "240",
         "7.0",
         "166.0",
         "3925.5586878590752",
         "9.8",
         "2010",
         "Asia",
         "Gasoline",
         "Front-wheel drive",
         "0.0",
         "11.781953644467873"
        ],
        [
         "89",
         "180",
         "4.0",
         "101.0",
         "2065.5431253394445",
         "17.7",
         "2005",
         "Asia",
         "Gasoline",
         "All-wheel drive",
         "0.0",
         "19.106654789919126"
        ],
        [
         "102",
         "250",
         "6.0",
         "177.0",
         "2705.632696518827",
         "10.1",
         "2003",
         "Asia",
         "Gasoline",
         "All-wheel drive",
         "2.0",
         "17.36358518579527"
        ],
        [
         "104",
         "140",
         "1.0",
         "166.0",
         "3238.177967641373",
         "14.9",
         "2011",
         "Asia",
         "Gasoline",
         "All-wheel drive",
         "1.0",
         "13.784027898457635"
        ],
        [
         "105",
         "310",
         null,
         "103.0",
         "3514.690129960512",
         "15.7",
         "2011",
         "Asia",
         "Gasoline",
         "Front-wheel drive",
         "0.0",
         "11.745027917789637"
        ],
        [
         "108",
         "290",
         "4.0",
         "184.0",
         "3090.89413681191",
         "16.6",
         "2002",
         "Asia",
         "Gasoline",
         "All-wheel drive",
         "1.0",
         "14.98594049869758"
        ],
        [
         "111",
         "240",
         "6.0",
         "151.0",
         "3444.2532181983206",
         "12.1",
         "2008",
         "Asia",
         "Diesel",
         "Front-wheel drive",
         null,
         "13.190997221220323"
        ],
        [
         "113",
         "200",
         "2.0",
         "163.0",
         "3146.743143565958",
         "13.0",
         "2005",
         "Asia",
         "Gasoline",
         "All-wheel drive",
         "0.0",
         "14.395615578556114"
        ],
        [
         "115",
         "210",
         "3.0",
         "162.0",
         "3642.4980770826874",
         "15.6",
         "2001",
         "Asia",
         "Gasoline",
         "All-wheel drive",
         "0.0",
         "10.963506046167412"
        ],
        [
         "117",
         "280",
         "1.0",
         "104.0",
         "3650.722390412526",
         "13.3",
         "2010",
         "Asia",
         "Gasoline",
         "Front-wheel drive",
         "1.0",
         "11.342614871840736"
        ],
        [
         "119",
         "230",
         "2.0",
         "137.0",
         "2859.270425474493",
         "15.4",
         "2017",
         "Asia",
         "Gasoline",
         "All-wheel drive",
         "-1.0",
         "15.534575330284182"
        ],
        [
         "123",
         "270",
         "6.0",
         "135.0",
         "2435.3611644468947",
         "15.0",
         "2006",
         "Asia",
         "Gasoline",
         "Front-wheel drive",
         "0.0",
         "17.958386086087742"
        ],
        [
         "125",
         "200",
         "3.0",
         "143.0",
         "2950.822121334588",
         "17.1",
         "2013",
         "Asia",
         "Diesel",
         "Front-wheel drive",
         "-1.0",
         "15.331214658436403"
        ],
        [
         "130",
         "180",
         "5.0",
         "164.0",
         "3011.935745333787",
         "13.5",
         "2018",
         "Asia",
         "Gasoline",
         "All-wheel drive",
         "0.0",
         "15.519705640049803"
        ],
        [
         "131",
         "200",
         "4.0",
         "123.0",
         "2842.992310766458",
         "15.7",
         "2010",
         "Asia",
         "Gasoline",
         "Front-wheel drive",
         "3.0",
         "15.172158285749552"
        ],
        [
         "132",
         "110",
         "4.0",
         "149.0",
         "2686.2920420207847",
         "13.9",
         "2011",
         "Asia",
         "Diesel",
         "All-wheel drive",
         "0.0",
         "16.54995387725934"
        ],
        [
         "134",
         "90",
         "1.0",
         "148.0",
         "2528.3479461904435",
         "11.9",
         "2002",
         "Asia",
         "Diesel",
         "Front-wheel drive",
         "1.0",
         "17.540475740681295"
        ],
        [
         "135",
         "170",
         "4.0",
         "153.0",
         "3678.720747386177",
         "15.8",
         "2022",
         "Asia",
         "Gasoline",
         "Front-wheel drive",
         "-1.0",
         "11.353188504588235"
        ],
        [
         "144",
         "260",
         "2.0",
         "200.0",
         "2216.540197957567",
         "15.0",
         "2016",
         "Asia",
         "Gasoline",
         "All-wheel drive",
         "1.0",
         "18.841960135846293"
        ],
        [
         "151",
         "190",
         "2.0",
         "179.0",
         "3953.311649204393",
         "15.6",
         "2003",
         "Asia",
         "Diesel",
         "Front-wheel drive",
         "0.0",
         "10.188722574984988"
        ],
        [
         "153",
         "310",
         "0.0",
         "159.0",
         "2376.284548972947",
         null,
         "2005",
         "Asia",
         "Diesel",
         "All-wheel drive",
         "-1.0",
         "17.863914553778507"
        ],
        [
         "154",
         "140",
         "4.0",
         "172.0",
         "3966.299770850817",
         "14.3",
         "2014",
         "Asia",
         "Gasoline",
         "All-wheel drive",
         "-1.0",
         "9.984908640845251"
        ],
        [
         "156",
         "220",
         "1.0",
         "139.0",
         "2577.120411484481",
         "15.1",
         "2007",
         "Asia",
         "Diesel",
         "Front-wheel drive",
         "0.0",
         "17.390924993136817"
        ],
        [
         "160",
         "140",
         "8.0",
         "130.0",
         "2403.181129982779",
         "15.0",
         "2020",
         "Asia",
         "Diesel",
         "Front-wheel drive",
         "-1.0",
         "17.798755253041886"
        ],
        [
         "161",
         "220",
         "6.0",
         "170.0",
         "2374.4828658875795",
         "16.8",
         "2015",
         "Asia",
         "Diesel",
         "Front-wheel drive",
         "1.0",
         "18.357378387890183"
        ],
        [
         "166",
         "200",
         "5.0",
         "150.0",
         "3965.339213908783",
         "12.0",
         "2018",
         "Asia",
         "Gasoline",
         "All-wheel drive",
         "0.0",
         "10.465232689090865"
        ],
        [
         "167",
         "150",
         "4.0",
         "192.0",
         "2824.478265006889",
         "13.8",
         "2002",
         "Asia",
         "Diesel",
         "All-wheel drive",
         "2.0",
         "16.696031085278673"
        ],
        [
         "171",
         "200",
         "8.0",
         "217.0",
         "2156.3676639373502",
         "16.7",
         "2012",
         "Asia",
         "Gasoline",
         "Front-wheel drive",
         "1.0",
         "19.4424734803092"
        ],
        [
         "172",
         "200",
         "2.0",
         "147.0",
         "4043.595771631228",
         "16.2",
         "2014",
         "Asia",
         "Gasoline",
         "All-wheel drive",
         "1.0",
         "9.957139470311276"
        ],
        [
         "173",
         "230",
         "3.0",
         "172.0",
         "2697.423182331291",
         "16.1",
         "2011",
         "Asia",
         "Diesel",
         "All-wheel drive",
         "2.0",
         "16.75466934147011"
        ],
        [
         "176",
         "240",
         null,
         "120.0",
         "3450.59314322959",
         "14.3",
         "2023",
         "Asia",
         "Diesel",
         "All-wheel drive",
         "1.0",
         "12.895396757676426"
        ],
        [
         "184",
         "140",
         "9.0",
         "83.0",
         "3007.3271482865844",
         "16.6",
         "2022",
         "Asia",
         "Diesel",
         "All-wheel drive",
         "1.0",
         "13.991309283118838"
        ],
        [
         "185",
         "210",
         "6.0",
         "101.0",
         "2725.919222680632",
         "11.6",
         "2015",
         "Asia",
         "Diesel",
         "Front-wheel drive",
         "0.0",
         "16.003261680782987"
        ]
       ],
       "shape": {
        "columns": 11,
        "rows": 3247
       }
      },
      "text/html": [
       "<div>\n",
       "<style scoped>\n",
       "    .dataframe tbody tr th:only-of-type {\n",
       "        vertical-align: middle;\n",
       "    }\n",
       "\n",
       "    .dataframe tbody tr th {\n",
       "        vertical-align: top;\n",
       "    }\n",
       "\n",
       "    .dataframe thead th {\n",
       "        text-align: right;\n",
       "    }\n",
       "</style>\n",
       "<table border=\"1\" class=\"dataframe\">\n",
       "  <thead>\n",
       "    <tr style=\"text-align: right;\">\n",
       "      <th></th>\n",
       "      <th>engine_displacement</th>\n",
       "      <th>num_cylinders</th>\n",
       "      <th>horsepower</th>\n",
       "      <th>vehicle_weight</th>\n",
       "      <th>acceleration</th>\n",
       "      <th>model_year</th>\n",
       "      <th>origin</th>\n",
       "      <th>fuel_type</th>\n",
       "      <th>drivetrain</th>\n",
       "      <th>num_doors</th>\n",
       "      <th>fuel_efficiency_mpg</th>\n",
       "    </tr>\n",
       "  </thead>\n",
       "  <tbody>\n",
       "    <tr>\n",
       "      <th>8</th>\n",
       "      <td>250</td>\n",
       "      <td>1.0</td>\n",
       "      <td>174.0</td>\n",
       "      <td>2714.219310</td>\n",
       "      <td>10.3</td>\n",
       "      <td>2016</td>\n",
       "      <td>Asia</td>\n",
       "      <td>Diesel</td>\n",
       "      <td>Front-wheel drive</td>\n",
       "      <td>-1.0</td>\n",
       "      <td>16.823554</td>\n",
       "    </tr>\n",
       "    <tr>\n",
       "      <th>12</th>\n",
       "      <td>320</td>\n",
       "      <td>5.0</td>\n",
       "      <td>145.0</td>\n",
       "      <td>2783.868974</td>\n",
       "      <td>15.1</td>\n",
       "      <td>2010</td>\n",
       "      <td>Asia</td>\n",
       "      <td>Diesel</td>\n",
       "      <td>All-wheel drive</td>\n",
       "      <td>1.0</td>\n",
       "      <td>16.175820</td>\n",
       "    </tr>\n",
       "    <tr>\n",
       "      <th>14</th>\n",
       "      <td>200</td>\n",
       "      <td>6.0</td>\n",
       "      <td>160.0</td>\n",
       "      <td>3582.687368</td>\n",
       "      <td>14.9</td>\n",
       "      <td>2007</td>\n",
       "      <td>Asia</td>\n",
       "      <td>Diesel</td>\n",
       "      <td>All-wheel drive</td>\n",
       "      <td>0.0</td>\n",
       "      <td>11.871091</td>\n",
       "    </tr>\n",
       "    <tr>\n",
       "      <th>20</th>\n",
       "      <td>150</td>\n",
       "      <td>3.0</td>\n",
       "      <td>197.0</td>\n",
       "      <td>2231.808142</td>\n",
       "      <td>18.7</td>\n",
       "      <td>2011</td>\n",
       "      <td>Asia</td>\n",
       "      <td>Gasoline</td>\n",
       "      <td>Front-wheel drive</td>\n",
       "      <td>1.0</td>\n",
       "      <td>18.889083</td>\n",
       "    </tr>\n",
       "    <tr>\n",
       "      <th>21</th>\n",
       "      <td>160</td>\n",
       "      <td>4.0</td>\n",
       "      <td>133.0</td>\n",
       "      <td>2659.431451</td>\n",
       "      <td>NaN</td>\n",
       "      <td>2016</td>\n",
       "      <td>Asia</td>\n",
       "      <td>Gasoline</td>\n",
       "      <td>Front-wheel drive</td>\n",
       "      <td>-1.0</td>\n",
       "      <td>16.077730</td>\n",
       "    </tr>\n",
       "    <tr>\n",
       "      <th>...</th>\n",
       "      <td>...</td>\n",
       "      <td>...</td>\n",
       "      <td>...</td>\n",
       "      <td>...</td>\n",
       "      <td>...</td>\n",
       "      <td>...</td>\n",
       "      <td>...</td>\n",
       "      <td>...</td>\n",
       "      <td>...</td>\n",
       "      <td>...</td>\n",
       "      <td>...</td>\n",
       "    </tr>\n",
       "    <tr>\n",
       "      <th>9688</th>\n",
       "      <td>260</td>\n",
       "      <td>4.0</td>\n",
       "      <td>NaN</td>\n",
       "      <td>3948.404625</td>\n",
       "      <td>15.5</td>\n",
       "      <td>2018</td>\n",
       "      <td>Asia</td>\n",
       "      <td>Diesel</td>\n",
       "      <td>All-wheel drive</td>\n",
       "      <td>-1.0</td>\n",
       "      <td>11.054830</td>\n",
       "    </tr>\n",
       "    <tr>\n",
       "      <th>9692</th>\n",
       "      <td>180</td>\n",
       "      <td>3.0</td>\n",
       "      <td>188.0</td>\n",
       "      <td>3680.341381</td>\n",
       "      <td>18.0</td>\n",
       "      <td>2016</td>\n",
       "      <td>Asia</td>\n",
       "      <td>Gasoline</td>\n",
       "      <td>Front-wheel drive</td>\n",
       "      <td>1.0</td>\n",
       "      <td>11.711653</td>\n",
       "    </tr>\n",
       "    <tr>\n",
       "      <th>9693</th>\n",
       "      <td>280</td>\n",
       "      <td>2.0</td>\n",
       "      <td>148.0</td>\n",
       "      <td>2545.070139</td>\n",
       "      <td>15.6</td>\n",
       "      <td>2012</td>\n",
       "      <td>Asia</td>\n",
       "      <td>Diesel</td>\n",
       "      <td>All-wheel drive</td>\n",
       "      <td>0.0</td>\n",
       "      <td>17.202782</td>\n",
       "    </tr>\n",
       "    <tr>\n",
       "      <th>9698</th>\n",
       "      <td>180</td>\n",
       "      <td>1.0</td>\n",
       "      <td>131.0</td>\n",
       "      <td>3107.427820</td>\n",
       "      <td>13.2</td>\n",
       "      <td>2005</td>\n",
       "      <td>Asia</td>\n",
       "      <td>Gasoline</td>\n",
       "      <td>Front-wheel drive</td>\n",
       "      <td>-2.0</td>\n",
       "      <td>13.933716</td>\n",
       "    </tr>\n",
       "    <tr>\n",
       "      <th>9703</th>\n",
       "      <td>270</td>\n",
       "      <td>3.0</td>\n",
       "      <td>140.0</td>\n",
       "      <td>2908.043477</td>\n",
       "      <td>14.7</td>\n",
       "      <td>2005</td>\n",
       "      <td>Asia</td>\n",
       "      <td>Diesel</td>\n",
       "      <td>All-wheel drive</td>\n",
       "      <td>-1.0</td>\n",
       "      <td>14.884467</td>\n",
       "    </tr>\n",
       "  </tbody>\n",
       "</table>\n",
       "<p>3247 rows × 11 columns</p>\n",
       "</div>"
      ],
      "text/plain": [
       "      engine_displacement  num_cylinders  horsepower  vehicle_weight  \\\n",
       "8                     250            1.0       174.0     2714.219310   \n",
       "12                    320            5.0       145.0     2783.868974   \n",
       "14                    200            6.0       160.0     3582.687368   \n",
       "20                    150            3.0       197.0     2231.808142   \n",
       "21                    160            4.0       133.0     2659.431451   \n",
       "...                   ...            ...         ...             ...   \n",
       "9688                  260            4.0         NaN     3948.404625   \n",
       "9692                  180            3.0       188.0     3680.341381   \n",
       "9693                  280            2.0       148.0     2545.070139   \n",
       "9698                  180            1.0       131.0     3107.427820   \n",
       "9703                  270            3.0       140.0     2908.043477   \n",
       "\n",
       "      acceleration  model_year origin fuel_type         drivetrain  num_doors  \\\n",
       "8             10.3        2016   Asia    Diesel  Front-wheel drive       -1.0   \n",
       "12            15.1        2010   Asia    Diesel    All-wheel drive        1.0   \n",
       "14            14.9        2007   Asia    Diesel    All-wheel drive        0.0   \n",
       "20            18.7        2011   Asia  Gasoline  Front-wheel drive        1.0   \n",
       "21             NaN        2016   Asia  Gasoline  Front-wheel drive       -1.0   \n",
       "...            ...         ...    ...       ...                ...        ...   \n",
       "9688          15.5        2018   Asia    Diesel    All-wheel drive       -1.0   \n",
       "9692          18.0        2016   Asia  Gasoline  Front-wheel drive        1.0   \n",
       "9693          15.6        2012   Asia    Diesel    All-wheel drive        0.0   \n",
       "9698          13.2        2005   Asia  Gasoline  Front-wheel drive       -2.0   \n",
       "9703          14.7        2005   Asia    Diesel    All-wheel drive       -1.0   \n",
       "\n",
       "      fuel_efficiency_mpg  \n",
       "8               16.823554  \n",
       "12              16.175820  \n",
       "14              11.871091  \n",
       "20              18.889083  \n",
       "21              16.077730  \n",
       "...                   ...  \n",
       "9688            11.054830  \n",
       "9692            11.711653  \n",
       "9693            17.202782  \n",
       "9698            13.933716  \n",
       "9703            14.884467  \n",
       "\n",
       "[3247 rows x 11 columns]"
      ]
     },
     "execution_count": 7,
     "metadata": {},
     "output_type": "execute_result"
    }
   ],
   "source": [
    "# select all cars from Asia\n",
    "df[df['origin'] == 'Asia']"
   ]
  },
  {
   "cell_type": "code",
   "execution_count": 38,
   "id": "3fa07776",
   "metadata": {},
   "outputs": [
    {
     "data": {
      "application/vnd.microsoft.datawrangler.viewer.v0+json": {
       "columns": [
        {
         "name": "index",
         "rawType": "object",
         "type": "string"
        },
        {
         "name": "engine_displacement",
         "rawType": "float64",
         "type": "float"
        },
        {
         "name": "num_cylinders",
         "rawType": "float64",
         "type": "float"
        },
        {
         "name": "horsepower",
         "rawType": "float64",
         "type": "float"
        },
        {
         "name": "vehicle_weight",
         "rawType": "float64",
         "type": "float"
        },
        {
         "name": "acceleration",
         "rawType": "float64",
         "type": "float"
        },
        {
         "name": "model_year",
         "rawType": "float64",
         "type": "float"
        },
        {
         "name": "num_doors",
         "rawType": "float64",
         "type": "float"
        },
        {
         "name": "fuel_efficiency_mpg",
         "rawType": "float64",
         "type": "float"
        }
       ],
       "ref": "7d7ce138-564a-4e0f-a31c-9ffd618cfa2f",
       "rows": [
        [
         "count",
         "9704.0",
         "9222.0",
         "8996.0",
         "9704.0",
         "8774.0",
         "9704.0",
         "9202.0",
         "9704.0"
        ],
        [
         "mean",
         "199.70836768342951",
         "3.962481023639124",
         "149.65729212983547",
         "3001.280993373135",
         "15.021928424891724",
         "2011.484027205276",
         "-0.0064116496413823085",
         "14.985243228208573"
        ],
        [
         "std",
         "49.4553189938653",
         "1.9993225843926064",
         "29.879555200339446",
         "497.8948600311838",
         "2.510339293937879",
         "6.659807627820643",
         "1.048162111427726",
         "2.5564677028974288"
        ],
        [
         "min",
         "10.0",
         "0.0",
         "37.0",
         "952.6817606436496",
         "6.0",
         "2000.0",
         "-4.0",
         "6.200970533392815"
        ],
        [
         "25%",
         "170.0",
         "3.0",
         "130.0",
         "2666.2489848326345",
         "13.3",
         "2006.0",
         "-1.0",
         "13.267458637174174"
        ],
        [
         "50%",
         "200.0",
         "4.0",
         "149.0",
         "2993.2262961692163",
         "15.0",
         "2012.0",
         "0.0",
         "15.006036963481211"
        ],
        [
         "75%",
         "230.0",
         "5.0",
         "170.0",
         "3334.9570391969396",
         "16.7",
         "2017.0",
         "1.0",
         "16.707965306826786"
        ],
        [
         "max",
         "380.0",
         "13.0",
         "271.0",
         "4739.077089392099",
         "24.3",
         "2023.0",
         "4.0",
         "25.96722204888372"
        ]
       ],
       "shape": {
        "columns": 8,
        "rows": 8
       }
      },
      "text/html": [
       "<div>\n",
       "<style scoped>\n",
       "    .dataframe tbody tr th:only-of-type {\n",
       "        vertical-align: middle;\n",
       "    }\n",
       "\n",
       "    .dataframe tbody tr th {\n",
       "        vertical-align: top;\n",
       "    }\n",
       "\n",
       "    .dataframe thead th {\n",
       "        text-align: right;\n",
       "    }\n",
       "</style>\n",
       "<table border=\"1\" class=\"dataframe\">\n",
       "  <thead>\n",
       "    <tr style=\"text-align: right;\">\n",
       "      <th></th>\n",
       "      <th>engine_displacement</th>\n",
       "      <th>num_cylinders</th>\n",
       "      <th>horsepower</th>\n",
       "      <th>vehicle_weight</th>\n",
       "      <th>acceleration</th>\n",
       "      <th>model_year</th>\n",
       "      <th>num_doors</th>\n",
       "      <th>fuel_efficiency_mpg</th>\n",
       "    </tr>\n",
       "  </thead>\n",
       "  <tbody>\n",
       "    <tr>\n",
       "      <th>count</th>\n",
       "      <td>9704.000000</td>\n",
       "      <td>9222.000000</td>\n",
       "      <td>8996.000000</td>\n",
       "      <td>9704.000000</td>\n",
       "      <td>8774.000000</td>\n",
       "      <td>9704.000000</td>\n",
       "      <td>9202.000000</td>\n",
       "      <td>9704.000000</td>\n",
       "    </tr>\n",
       "    <tr>\n",
       "      <th>mean</th>\n",
       "      <td>199.708368</td>\n",
       "      <td>3.962481</td>\n",
       "      <td>149.657292</td>\n",
       "      <td>3001.280993</td>\n",
       "      <td>15.021928</td>\n",
       "      <td>2011.484027</td>\n",
       "      <td>-0.006412</td>\n",
       "      <td>14.985243</td>\n",
       "    </tr>\n",
       "    <tr>\n",
       "      <th>std</th>\n",
       "      <td>49.455319</td>\n",
       "      <td>1.999323</td>\n",
       "      <td>29.879555</td>\n",
       "      <td>497.894860</td>\n",
       "      <td>2.510339</td>\n",
       "      <td>6.659808</td>\n",
       "      <td>1.048162</td>\n",
       "      <td>2.556468</td>\n",
       "    </tr>\n",
       "    <tr>\n",
       "      <th>min</th>\n",
       "      <td>10.000000</td>\n",
       "      <td>0.000000</td>\n",
       "      <td>37.000000</td>\n",
       "      <td>952.681761</td>\n",
       "      <td>6.000000</td>\n",
       "      <td>2000.000000</td>\n",
       "      <td>-4.000000</td>\n",
       "      <td>6.200971</td>\n",
       "    </tr>\n",
       "    <tr>\n",
       "      <th>25%</th>\n",
       "      <td>170.000000</td>\n",
       "      <td>3.000000</td>\n",
       "      <td>130.000000</td>\n",
       "      <td>2666.248985</td>\n",
       "      <td>13.300000</td>\n",
       "      <td>2006.000000</td>\n",
       "      <td>-1.000000</td>\n",
       "      <td>13.267459</td>\n",
       "    </tr>\n",
       "    <tr>\n",
       "      <th>50%</th>\n",
       "      <td>200.000000</td>\n",
       "      <td>4.000000</td>\n",
       "      <td>149.000000</td>\n",
       "      <td>2993.226296</td>\n",
       "      <td>15.000000</td>\n",
       "      <td>2012.000000</td>\n",
       "      <td>0.000000</td>\n",
       "      <td>15.006037</td>\n",
       "    </tr>\n",
       "    <tr>\n",
       "      <th>75%</th>\n",
       "      <td>230.000000</td>\n",
       "      <td>5.000000</td>\n",
       "      <td>170.000000</td>\n",
       "      <td>3334.957039</td>\n",
       "      <td>16.700000</td>\n",
       "      <td>2017.000000</td>\n",
       "      <td>1.000000</td>\n",
       "      <td>16.707965</td>\n",
       "    </tr>\n",
       "    <tr>\n",
       "      <th>max</th>\n",
       "      <td>380.000000</td>\n",
       "      <td>13.000000</td>\n",
       "      <td>271.000000</td>\n",
       "      <td>4739.077089</td>\n",
       "      <td>24.300000</td>\n",
       "      <td>2023.000000</td>\n",
       "      <td>4.000000</td>\n",
       "      <td>25.967222</td>\n",
       "    </tr>\n",
       "  </tbody>\n",
       "</table>\n",
       "</div>"
      ],
      "text/plain": [
       "       engine_displacement  num_cylinders   horsepower  vehicle_weight  \\\n",
       "count          9704.000000    9222.000000  8996.000000     9704.000000   \n",
       "mean            199.708368       3.962481   149.657292     3001.280993   \n",
       "std              49.455319       1.999323    29.879555      497.894860   \n",
       "min              10.000000       0.000000    37.000000      952.681761   \n",
       "25%             170.000000       3.000000   130.000000     2666.248985   \n",
       "50%             200.000000       4.000000   149.000000     2993.226296   \n",
       "75%             230.000000       5.000000   170.000000     3334.957039   \n",
       "max             380.000000      13.000000   271.000000     4739.077089   \n",
       "\n",
       "       acceleration   model_year    num_doors  fuel_efficiency_mpg  \n",
       "count   8774.000000  9704.000000  9202.000000          9704.000000  \n",
       "mean      15.021928  2011.484027    -0.006412            14.985243  \n",
       "std        2.510339     6.659808     1.048162             2.556468  \n",
       "min        6.000000  2000.000000    -4.000000             6.200971  \n",
       "25%       13.300000  2006.000000    -1.000000            13.267459  \n",
       "50%       15.000000  2012.000000     0.000000            15.006037  \n",
       "75%       16.700000  2017.000000     1.000000            16.707965  \n",
       "max       24.300000  2023.000000     4.000000            25.967222  "
      ]
     },
     "execution_count": 38,
     "metadata": {},
     "output_type": "execute_result"
    }
   ],
   "source": [
    "df.describe()   "
   ]
  },
  {
   "cell_type": "code",
   "execution_count": 11,
   "id": "c22c73fd",
   "metadata": {},
   "outputs": [
    {
     "data": {
      "text/plain": [
       "25.96722204888372"
      ]
     },
     "execution_count": 11,
     "metadata": {},
     "output_type": "execute_result"
    }
   ],
   "source": [
    "asianFuelEfficiency = df['fuel_efficiency_mpg'].max()\n",
    "asianFuelEfficiency"
   ]
  },
  {
   "cell_type": "markdown",
   "id": "78e4194d",
   "metadata": {},
   "source": [
    "### Q6. MEDIAN value of horsepower"
   ]
  },
  {
   "cell_type": "code",
   "execution_count": 39,
   "id": "5684e6fa",
   "metadata": {},
   "outputs": [
    {
     "data": {
      "text/plain": [
       "149.0"
      ]
     },
     "execution_count": 39,
     "metadata": {},
     "output_type": "execute_result"
    }
   ],
   "source": [
    "df.horsepower.median()"
   ]
  },
  {
   "cell_type": "code",
   "execution_count": 40,
   "id": "ad6f03e8",
   "metadata": {},
   "outputs": [
    {
     "data": {
      "application/vnd.microsoft.datawrangler.viewer.v0+json": {
       "columns": [
        {
         "name": "index",
         "rawType": "int64",
         "type": "integer"
        },
        {
         "name": "horsepower",
         "rawType": "float64",
         "type": "float"
        }
       ],
       "ref": "a38926c1-a4ae-470f-87e2-2b4bb6c0e92c",
       "rows": [
        [
         "0",
         "152.0"
        ]
       ],
       "shape": {
        "columns": 1,
        "rows": 1
       }
      },
      "text/plain": [
       "0    152.0\n",
       "Name: horsepower, dtype: float64"
      ]
     },
     "execution_count": 40,
     "metadata": {},
     "output_type": "execute_result"
    }
   ],
   "source": [
    "df.horsepower.mode()"
   ]
  },
  {
   "cell_type": "code",
   "execution_count": 45,
   "id": "d9fa9657",
   "metadata": {},
   "outputs": [],
   "source": [
    "\n",
    "df.fillna({'horsepower': df.horsepower.mode()}, inplace=True)"
   ]
  },
  {
   "cell_type": "code",
   "execution_count": 46,
   "id": "c14bbc85",
   "metadata": {},
   "outputs": [
    {
     "data": {
      "text/plain": [
       "152.0"
      ]
     },
     "execution_count": 46,
     "metadata": {},
     "output_type": "execute_result"
    }
   ],
   "source": [
    "df.horsepower.median()"
   ]
  },
  {
   "cell_type": "markdown",
   "id": "56658504",
   "metadata": {},
   "source": [
    "### Q7. Sum of weights"
   ]
  },
  {
   "cell_type": "code",
   "execution_count": 15,
   "id": "c1794e22",
   "metadata": {},
   "outputs": [
    {
     "data": {
      "application/vnd.microsoft.datawrangler.viewer.v0+json": {
       "columns": [
        {
         "name": "index",
         "rawType": "int64",
         "type": "integer"
        },
        {
         "name": "engine_displacement",
         "rawType": "int64",
         "type": "integer"
        },
        {
         "name": "num_cylinders",
         "rawType": "float64",
         "type": "float"
        },
        {
         "name": "horsepower",
         "rawType": "float64",
         "type": "float"
        },
        {
         "name": "vehicle_weight",
         "rawType": "float64",
         "type": "float"
        },
        {
         "name": "acceleration",
         "rawType": "float64",
         "type": "float"
        },
        {
         "name": "model_year",
         "rawType": "int64",
         "type": "integer"
        },
        {
         "name": "origin",
         "rawType": "object",
         "type": "string"
        },
        {
         "name": "fuel_type",
         "rawType": "object",
         "type": "string"
        },
        {
         "name": "drivetrain",
         "rawType": "object",
         "type": "string"
        },
        {
         "name": "num_doors",
         "rawType": "float64",
         "type": "float"
        },
        {
         "name": "fuel_efficiency_mpg",
         "rawType": "float64",
         "type": "float"
        }
       ],
       "ref": "059f2d48-c20d-45c2-baef-6d2b3df215e0",
       "rows": [
        [
         "8",
         "250",
         "1.0",
         "174.0",
         "2714.219309645285",
         "10.3",
         "2016",
         "Asia",
         "Diesel",
         "Front-wheel drive",
         "-1.0",
         "16.823553726916543"
        ],
        [
         "12",
         "320",
         "5.0",
         "145.0",
         "2783.8689742437728",
         "15.1",
         "2010",
         "Asia",
         "Diesel",
         "All-wheel drive",
         "1.0",
         "16.17581958009284"
        ],
        [
         "14",
         "200",
         "6.0",
         "160.0",
         "3582.687367715132",
         "14.9",
         "2007",
         "Asia",
         "Diesel",
         "All-wheel drive",
         "0.0",
         "11.871091010445811"
        ],
        [
         "20",
         "150",
         "3.0",
         "197.0",
         "2231.8081416029345",
         "18.7",
         "2011",
         "Asia",
         "Gasoline",
         "Front-wheel drive",
         "1.0",
         "18.88908257097108"
        ],
        [
         "21",
         "160",
         "4.0",
         "133.0",
         "2659.431450757995",
         null,
         "2016",
         "Asia",
         "Gasoline",
         "Front-wheel drive",
         "-1.0",
         "16.077730214491176"
        ],
        [
         "34",
         "150",
         "2.0",
         "149.0",
         "2844.2275338857653",
         "17.3",
         "2014",
         "Asia",
         "Diesel",
         "Front-wheel drive",
         "0.0",
         "15.353788201522017"
        ],
        [
         "38",
         "190",
         "5.0",
         "158.0",
         "3761.9940381922206",
         null,
         "2019",
         "Asia",
         "Gasoline",
         "Front-wheel drive",
         "1.0",
         "11.645724047561528"
        ],
        [
         "43",
         "170",
         "4.0",
         "123.0",
         "2957.6811098887447",
         "14.4",
         "2012",
         "Asia",
         "Diesel",
         "All-wheel drive",
         "-1.0",
         "15.039796931634644"
        ],
        [
         "44",
         "240",
         "2.0",
         "142.0",
         "2544.516801769428",
         "12.9",
         "2016",
         "Asia",
         "Gasoline",
         "All-wheel drive",
         "0.0",
         "17.600327865900464"
        ],
        [
         "48",
         "190",
         "5.0",
         "202.0",
         "2531.185247040718",
         "16.2",
         "2016",
         "Asia",
         "Gasoline",
         "All-wheel drive",
         "0.0",
         "17.983505227568678"
        ],
        [
         "51",
         "270",
         "3.0",
         "152.0",
         "2730.9471044643847",
         null,
         "2015",
         "Asia",
         "Diesel",
         "All-wheel drive",
         "-1.0",
         "15.82098165489468"
        ],
        [
         "57",
         "210",
         "5.0",
         "128.0",
         "3654.1395563912342",
         "17.3",
         "2015",
         "Asia",
         "Gasoline",
         "Front-wheel drive",
         null,
         "11.550323928127572"
        ],
        [
         "60",
         "240",
         "5.0",
         null,
         "2677.52170988898",
         "13.2",
         "2003",
         "Asia",
         "Diesel",
         "Front-wheel drive",
         "0.0",
         "16.31743149857548"
        ],
        [
         "74",
         "160",
         "6.0",
         "196.0",
         "2858.715432560616",
         "16.8",
         "2006",
         "Asia",
         "Gasoline",
         "All-wheel drive",
         "0.0",
         "16.138145622702815"
        ],
        [
         "76",
         "190",
         "4.0",
         "133.0",
         "3925.506911760992",
         "17.1",
         "2000",
         "Asia",
         "Gasoline",
         "Front-wheel drive",
         "0.0",
         "10.236175734106144"
        ],
        [
         "79",
         "210",
         "3.0",
         "152.0",
         "3429.169392019084",
         "16.8",
         "2012",
         "Asia",
         "Gasoline",
         "Front-wheel drive",
         "1.0",
         "12.919793266773633"
        ],
        [
         "87",
         "240",
         "0.0",
         "179.0",
         "2928.390984041444",
         "16.2",
         "2010",
         "Asia",
         "Diesel",
         "Front-wheel drive",
         "1.0",
         "15.1925413931655"
        ],
        [
         "88",
         "240",
         "7.0",
         "166.0",
         "3925.5586878590752",
         "9.8",
         "2010",
         "Asia",
         "Gasoline",
         "Front-wheel drive",
         "0.0",
         "11.781953644467873"
        ],
        [
         "89",
         "180",
         "4.0",
         "101.0",
         "2065.5431253394445",
         "17.7",
         "2005",
         "Asia",
         "Gasoline",
         "All-wheel drive",
         "0.0",
         "19.106654789919126"
        ],
        [
         "102",
         "250",
         "6.0",
         "177.0",
         "2705.632696518827",
         "10.1",
         "2003",
         "Asia",
         "Gasoline",
         "All-wheel drive",
         "2.0",
         "17.36358518579527"
        ],
        [
         "104",
         "140",
         "1.0",
         "166.0",
         "3238.177967641373",
         "14.9",
         "2011",
         "Asia",
         "Gasoline",
         "All-wheel drive",
         "1.0",
         "13.784027898457635"
        ],
        [
         "105",
         "310",
         null,
         "103.0",
         "3514.690129960512",
         "15.7",
         "2011",
         "Asia",
         "Gasoline",
         "Front-wheel drive",
         "0.0",
         "11.745027917789637"
        ],
        [
         "108",
         "290",
         "4.0",
         "184.0",
         "3090.89413681191",
         "16.6",
         "2002",
         "Asia",
         "Gasoline",
         "All-wheel drive",
         "1.0",
         "14.98594049869758"
        ],
        [
         "111",
         "240",
         "6.0",
         "151.0",
         "3444.2532181983206",
         "12.1",
         "2008",
         "Asia",
         "Diesel",
         "Front-wheel drive",
         null,
         "13.190997221220323"
        ],
        [
         "113",
         "200",
         "2.0",
         "163.0",
         "3146.743143565958",
         "13.0",
         "2005",
         "Asia",
         "Gasoline",
         "All-wheel drive",
         "0.0",
         "14.395615578556114"
        ],
        [
         "115",
         "210",
         "3.0",
         "162.0",
         "3642.4980770826874",
         "15.6",
         "2001",
         "Asia",
         "Gasoline",
         "All-wheel drive",
         "0.0",
         "10.963506046167412"
        ],
        [
         "117",
         "280",
         "1.0",
         "104.0",
         "3650.722390412526",
         "13.3",
         "2010",
         "Asia",
         "Gasoline",
         "Front-wheel drive",
         "1.0",
         "11.342614871840736"
        ],
        [
         "119",
         "230",
         "2.0",
         "137.0",
         "2859.270425474493",
         "15.4",
         "2017",
         "Asia",
         "Gasoline",
         "All-wheel drive",
         "-1.0",
         "15.534575330284182"
        ],
        [
         "123",
         "270",
         "6.0",
         "135.0",
         "2435.3611644468947",
         "15.0",
         "2006",
         "Asia",
         "Gasoline",
         "Front-wheel drive",
         "0.0",
         "17.958386086087742"
        ],
        [
         "125",
         "200",
         "3.0",
         "143.0",
         "2950.822121334588",
         "17.1",
         "2013",
         "Asia",
         "Diesel",
         "Front-wheel drive",
         "-1.0",
         "15.331214658436403"
        ],
        [
         "130",
         "180",
         "5.0",
         "164.0",
         "3011.935745333787",
         "13.5",
         "2018",
         "Asia",
         "Gasoline",
         "All-wheel drive",
         "0.0",
         "15.519705640049803"
        ],
        [
         "131",
         "200",
         "4.0",
         "123.0",
         "2842.992310766458",
         "15.7",
         "2010",
         "Asia",
         "Gasoline",
         "Front-wheel drive",
         "3.0",
         "15.172158285749552"
        ],
        [
         "132",
         "110",
         "4.0",
         "149.0",
         "2686.2920420207847",
         "13.9",
         "2011",
         "Asia",
         "Diesel",
         "All-wheel drive",
         "0.0",
         "16.54995387725934"
        ],
        [
         "134",
         "90",
         "1.0",
         "148.0",
         "2528.3479461904435",
         "11.9",
         "2002",
         "Asia",
         "Diesel",
         "Front-wheel drive",
         "1.0",
         "17.540475740681295"
        ],
        [
         "135",
         "170",
         "4.0",
         "153.0",
         "3678.720747386177",
         "15.8",
         "2022",
         "Asia",
         "Gasoline",
         "Front-wheel drive",
         "-1.0",
         "11.353188504588235"
        ],
        [
         "144",
         "260",
         "2.0",
         "200.0",
         "2216.540197957567",
         "15.0",
         "2016",
         "Asia",
         "Gasoline",
         "All-wheel drive",
         "1.0",
         "18.841960135846293"
        ],
        [
         "151",
         "190",
         "2.0",
         "179.0",
         "3953.311649204393",
         "15.6",
         "2003",
         "Asia",
         "Diesel",
         "Front-wheel drive",
         "0.0",
         "10.188722574984988"
        ],
        [
         "153",
         "310",
         "0.0",
         "159.0",
         "2376.284548972947",
         null,
         "2005",
         "Asia",
         "Diesel",
         "All-wheel drive",
         "-1.0",
         "17.863914553778507"
        ],
        [
         "154",
         "140",
         "4.0",
         "172.0",
         "3966.299770850817",
         "14.3",
         "2014",
         "Asia",
         "Gasoline",
         "All-wheel drive",
         "-1.0",
         "9.984908640845251"
        ],
        [
         "156",
         "220",
         "1.0",
         "139.0",
         "2577.120411484481",
         "15.1",
         "2007",
         "Asia",
         "Diesel",
         "Front-wheel drive",
         "0.0",
         "17.390924993136817"
        ],
        [
         "160",
         "140",
         "8.0",
         "130.0",
         "2403.181129982779",
         "15.0",
         "2020",
         "Asia",
         "Diesel",
         "Front-wheel drive",
         "-1.0",
         "17.798755253041886"
        ],
        [
         "161",
         "220",
         "6.0",
         "170.0",
         "2374.4828658875795",
         "16.8",
         "2015",
         "Asia",
         "Diesel",
         "Front-wheel drive",
         "1.0",
         "18.357378387890183"
        ],
        [
         "166",
         "200",
         "5.0",
         "150.0",
         "3965.339213908783",
         "12.0",
         "2018",
         "Asia",
         "Gasoline",
         "All-wheel drive",
         "0.0",
         "10.465232689090865"
        ],
        [
         "167",
         "150",
         "4.0",
         "192.0",
         "2824.478265006889",
         "13.8",
         "2002",
         "Asia",
         "Diesel",
         "All-wheel drive",
         "2.0",
         "16.696031085278673"
        ],
        [
         "171",
         "200",
         "8.0",
         "217.0",
         "2156.3676639373502",
         "16.7",
         "2012",
         "Asia",
         "Gasoline",
         "Front-wheel drive",
         "1.0",
         "19.4424734803092"
        ],
        [
         "172",
         "200",
         "2.0",
         "147.0",
         "4043.595771631228",
         "16.2",
         "2014",
         "Asia",
         "Gasoline",
         "All-wheel drive",
         "1.0",
         "9.957139470311276"
        ],
        [
         "173",
         "230",
         "3.0",
         "172.0",
         "2697.423182331291",
         "16.1",
         "2011",
         "Asia",
         "Diesel",
         "All-wheel drive",
         "2.0",
         "16.75466934147011"
        ],
        [
         "176",
         "240",
         null,
         "120.0",
         "3450.59314322959",
         "14.3",
         "2023",
         "Asia",
         "Diesel",
         "All-wheel drive",
         "1.0",
         "12.895396757676426"
        ],
        [
         "184",
         "140",
         "9.0",
         "83.0",
         "3007.3271482865844",
         "16.6",
         "2022",
         "Asia",
         "Diesel",
         "All-wheel drive",
         "1.0",
         "13.991309283118838"
        ],
        [
         "185",
         "210",
         "6.0",
         "101.0",
         "2725.919222680632",
         "11.6",
         "2015",
         "Asia",
         "Diesel",
         "Front-wheel drive",
         "0.0",
         "16.003261680782987"
        ]
       ],
       "shape": {
        "columns": 11,
        "rows": 3247
       }
      },
      "text/html": [
       "<div>\n",
       "<style scoped>\n",
       "    .dataframe tbody tr th:only-of-type {\n",
       "        vertical-align: middle;\n",
       "    }\n",
       "\n",
       "    .dataframe tbody tr th {\n",
       "        vertical-align: top;\n",
       "    }\n",
       "\n",
       "    .dataframe thead th {\n",
       "        text-align: right;\n",
       "    }\n",
       "</style>\n",
       "<table border=\"1\" class=\"dataframe\">\n",
       "  <thead>\n",
       "    <tr style=\"text-align: right;\">\n",
       "      <th></th>\n",
       "      <th>engine_displacement</th>\n",
       "      <th>num_cylinders</th>\n",
       "      <th>horsepower</th>\n",
       "      <th>vehicle_weight</th>\n",
       "      <th>acceleration</th>\n",
       "      <th>model_year</th>\n",
       "      <th>origin</th>\n",
       "      <th>fuel_type</th>\n",
       "      <th>drivetrain</th>\n",
       "      <th>num_doors</th>\n",
       "      <th>fuel_efficiency_mpg</th>\n",
       "    </tr>\n",
       "  </thead>\n",
       "  <tbody>\n",
       "    <tr>\n",
       "      <th>8</th>\n",
       "      <td>250</td>\n",
       "      <td>1.0</td>\n",
       "      <td>174.0</td>\n",
       "      <td>2714.219310</td>\n",
       "      <td>10.3</td>\n",
       "      <td>2016</td>\n",
       "      <td>Asia</td>\n",
       "      <td>Diesel</td>\n",
       "      <td>Front-wheel drive</td>\n",
       "      <td>-1.0</td>\n",
       "      <td>16.823554</td>\n",
       "    </tr>\n",
       "    <tr>\n",
       "      <th>12</th>\n",
       "      <td>320</td>\n",
       "      <td>5.0</td>\n",
       "      <td>145.0</td>\n",
       "      <td>2783.868974</td>\n",
       "      <td>15.1</td>\n",
       "      <td>2010</td>\n",
       "      <td>Asia</td>\n",
       "      <td>Diesel</td>\n",
       "      <td>All-wheel drive</td>\n",
       "      <td>1.0</td>\n",
       "      <td>16.175820</td>\n",
       "    </tr>\n",
       "    <tr>\n",
       "      <th>14</th>\n",
       "      <td>200</td>\n",
       "      <td>6.0</td>\n",
       "      <td>160.0</td>\n",
       "      <td>3582.687368</td>\n",
       "      <td>14.9</td>\n",
       "      <td>2007</td>\n",
       "      <td>Asia</td>\n",
       "      <td>Diesel</td>\n",
       "      <td>All-wheel drive</td>\n",
       "      <td>0.0</td>\n",
       "      <td>11.871091</td>\n",
       "    </tr>\n",
       "    <tr>\n",
       "      <th>20</th>\n",
       "      <td>150</td>\n",
       "      <td>3.0</td>\n",
       "      <td>197.0</td>\n",
       "      <td>2231.808142</td>\n",
       "      <td>18.7</td>\n",
       "      <td>2011</td>\n",
       "      <td>Asia</td>\n",
       "      <td>Gasoline</td>\n",
       "      <td>Front-wheel drive</td>\n",
       "      <td>1.0</td>\n",
       "      <td>18.889083</td>\n",
       "    </tr>\n",
       "    <tr>\n",
       "      <th>21</th>\n",
       "      <td>160</td>\n",
       "      <td>4.0</td>\n",
       "      <td>133.0</td>\n",
       "      <td>2659.431451</td>\n",
       "      <td>NaN</td>\n",
       "      <td>2016</td>\n",
       "      <td>Asia</td>\n",
       "      <td>Gasoline</td>\n",
       "      <td>Front-wheel drive</td>\n",
       "      <td>-1.0</td>\n",
       "      <td>16.077730</td>\n",
       "    </tr>\n",
       "    <tr>\n",
       "      <th>...</th>\n",
       "      <td>...</td>\n",
       "      <td>...</td>\n",
       "      <td>...</td>\n",
       "      <td>...</td>\n",
       "      <td>...</td>\n",
       "      <td>...</td>\n",
       "      <td>...</td>\n",
       "      <td>...</td>\n",
       "      <td>...</td>\n",
       "      <td>...</td>\n",
       "      <td>...</td>\n",
       "    </tr>\n",
       "    <tr>\n",
       "      <th>9688</th>\n",
       "      <td>260</td>\n",
       "      <td>4.0</td>\n",
       "      <td>NaN</td>\n",
       "      <td>3948.404625</td>\n",
       "      <td>15.5</td>\n",
       "      <td>2018</td>\n",
       "      <td>Asia</td>\n",
       "      <td>Diesel</td>\n",
       "      <td>All-wheel drive</td>\n",
       "      <td>-1.0</td>\n",
       "      <td>11.054830</td>\n",
       "    </tr>\n",
       "    <tr>\n",
       "      <th>9692</th>\n",
       "      <td>180</td>\n",
       "      <td>3.0</td>\n",
       "      <td>188.0</td>\n",
       "      <td>3680.341381</td>\n",
       "      <td>18.0</td>\n",
       "      <td>2016</td>\n",
       "      <td>Asia</td>\n",
       "      <td>Gasoline</td>\n",
       "      <td>Front-wheel drive</td>\n",
       "      <td>1.0</td>\n",
       "      <td>11.711653</td>\n",
       "    </tr>\n",
       "    <tr>\n",
       "      <th>9693</th>\n",
       "      <td>280</td>\n",
       "      <td>2.0</td>\n",
       "      <td>148.0</td>\n",
       "      <td>2545.070139</td>\n",
       "      <td>15.6</td>\n",
       "      <td>2012</td>\n",
       "      <td>Asia</td>\n",
       "      <td>Diesel</td>\n",
       "      <td>All-wheel drive</td>\n",
       "      <td>0.0</td>\n",
       "      <td>17.202782</td>\n",
       "    </tr>\n",
       "    <tr>\n",
       "      <th>9698</th>\n",
       "      <td>180</td>\n",
       "      <td>1.0</td>\n",
       "      <td>131.0</td>\n",
       "      <td>3107.427820</td>\n",
       "      <td>13.2</td>\n",
       "      <td>2005</td>\n",
       "      <td>Asia</td>\n",
       "      <td>Gasoline</td>\n",
       "      <td>Front-wheel drive</td>\n",
       "      <td>-2.0</td>\n",
       "      <td>13.933716</td>\n",
       "    </tr>\n",
       "    <tr>\n",
       "      <th>9703</th>\n",
       "      <td>270</td>\n",
       "      <td>3.0</td>\n",
       "      <td>140.0</td>\n",
       "      <td>2908.043477</td>\n",
       "      <td>14.7</td>\n",
       "      <td>2005</td>\n",
       "      <td>Asia</td>\n",
       "      <td>Diesel</td>\n",
       "      <td>All-wheel drive</td>\n",
       "      <td>-1.0</td>\n",
       "      <td>14.884467</td>\n",
       "    </tr>\n",
       "  </tbody>\n",
       "</table>\n",
       "<p>3247 rows × 11 columns</p>\n",
       "</div>"
      ],
      "text/plain": [
       "      engine_displacement  num_cylinders  horsepower  vehicle_weight  \\\n",
       "8                     250            1.0       174.0     2714.219310   \n",
       "12                    320            5.0       145.0     2783.868974   \n",
       "14                    200            6.0       160.0     3582.687368   \n",
       "20                    150            3.0       197.0     2231.808142   \n",
       "21                    160            4.0       133.0     2659.431451   \n",
       "...                   ...            ...         ...             ...   \n",
       "9688                  260            4.0         NaN     3948.404625   \n",
       "9692                  180            3.0       188.0     3680.341381   \n",
       "9693                  280            2.0       148.0     2545.070139   \n",
       "9698                  180            1.0       131.0     3107.427820   \n",
       "9703                  270            3.0       140.0     2908.043477   \n",
       "\n",
       "      acceleration  model_year origin fuel_type         drivetrain  num_doors  \\\n",
       "8             10.3        2016   Asia    Diesel  Front-wheel drive       -1.0   \n",
       "12            15.1        2010   Asia    Diesel    All-wheel drive        1.0   \n",
       "14            14.9        2007   Asia    Diesel    All-wheel drive        0.0   \n",
       "20            18.7        2011   Asia  Gasoline  Front-wheel drive        1.0   \n",
       "21             NaN        2016   Asia  Gasoline  Front-wheel drive       -1.0   \n",
       "...            ...         ...    ...       ...                ...        ...   \n",
       "9688          15.5        2018   Asia    Diesel    All-wheel drive       -1.0   \n",
       "9692          18.0        2016   Asia  Gasoline  Front-wheel drive        1.0   \n",
       "9693          15.6        2012   Asia    Diesel    All-wheel drive        0.0   \n",
       "9698          13.2        2005   Asia  Gasoline  Front-wheel drive       -2.0   \n",
       "9703          14.7        2005   Asia    Diesel    All-wheel drive       -1.0   \n",
       "\n",
       "      fuel_efficiency_mpg  \n",
       "8               16.823554  \n",
       "12              16.175820  \n",
       "14              11.871091  \n",
       "20              18.889083  \n",
       "21              16.077730  \n",
       "...                   ...  \n",
       "9688            11.054830  \n",
       "9692            11.711653  \n",
       "9693            17.202782  \n",
       "9698            13.933716  \n",
       "9703            14.884467  \n",
       "\n",
       "[3247 rows x 11 columns]"
      ]
     },
     "execution_count": 15,
     "metadata": {},
     "output_type": "execute_result"
    }
   ],
   "source": [
    "# select all cars from Asia\n",
    "#df[df.origin == 'Asia']\n",
    "df[df['origin'] == 'Asia']"
   ]
  },
  {
   "cell_type": "code",
   "execution_count": 16,
   "id": "e90db703",
   "metadata": {},
   "outputs": [
    {
     "data": {
      "application/vnd.microsoft.datawrangler.viewer.v0+json": {
       "columns": [
        {
         "name": "index",
         "rawType": "int64",
         "type": "integer"
        },
        {
         "name": "vehicle_weight",
         "rawType": "float64",
         "type": "float"
        },
        {
         "name": "model_year",
         "rawType": "int64",
         "type": "integer"
        }
       ],
       "ref": "b950a4ea-af42-489a-87c1-3b803e931aee",
       "rows": [
        [
         "0",
         "3413.433758606219",
         "2003"
        ],
        [
         "1",
         "3149.664934220036",
         "2007"
        ],
        [
         "2",
         "3079.03899736884",
         "2018"
        ],
        [
         "3",
         "2542.392401828378",
         "2009"
        ],
        [
         "4",
         "3460.870989989018",
         "2009"
        ],
        [
         "5",
         "2484.883986036068",
         "2008"
        ],
        [
         "6",
         "3006.5422872171457",
         "2012"
        ],
        [
         "7",
         "3638.6577802809",
         "2020"
        ],
        [
         "8",
         "2714.219309645285",
         "2016"
        ],
        [
         "9",
         "3509.036569100613",
         "2005"
        ],
        [
         "10",
         "3111.810181389172",
         "2014"
        ],
        [
         "11",
         "1967.2004212521003",
         "2014"
        ],
        [
         "12",
         "2783.8689742437728",
         "2010"
        ],
        [
         "13",
         "2274.7351905647565",
         "2000"
        ],
        [
         "14",
         "3582.687367715132",
         "2007"
        ],
        [
         "15",
         "2631.0652035914763",
         "2006"
        ],
        [
         "16",
         "2673.5529409560954",
         "2013"
        ],
        [
         "17",
         "2427.3118562098525",
         "2011"
        ],
        [
         "18",
         "2971.2145745989487",
         "2003"
        ],
        [
         "19",
         "2986.958657420011",
         "2004"
        ],
        [
         "20",
         "2231.8081416029345",
         "2011"
        ],
        [
         "21",
         "2659.431450757995",
         "2016"
        ],
        [
         "22",
         "2438.842125555246",
         "2016"
        ],
        [
         "23",
         "3342.6060274901347",
         "2009"
        ],
        [
         "24",
         "4267.390497388771",
         "2004"
        ],
        [
         "25",
         "2860.206191293806",
         "2013"
        ],
        [
         "26",
         "3080.170161717871",
         "2002"
        ],
        [
         "27",
         "3467.355490131792",
         "2016"
        ],
        [
         "28",
         "3335.0681874881448",
         "2005"
        ],
        [
         "29",
         "2479.7829741497544",
         "2014"
        ],
        [
         "30",
         "2598.598215530185",
         "2022"
        ],
        [
         "31",
         "3106.306111675653",
         "2000"
        ],
        [
         "32",
         "3619.370730176663",
         "2017"
        ],
        [
         "33",
         "2946.9791685788814",
         "2001"
        ],
        [
         "34",
         "2844.2275338857653",
         "2014"
        ],
        [
         "35",
         "2961.158679125447",
         "2004"
        ],
        [
         "36",
         "3040.2365213942894",
         "2006"
        ],
        [
         "37",
         "3444.8921095893515",
         "2023"
        ],
        [
         "38",
         "3761.9940381922206",
         "2019"
        ],
        [
         "39",
         "2676.886843633655",
         "2002"
        ],
        [
         "40",
         "2292.675257052191",
         "2015"
        ],
        [
         "41",
         "2563.9027023821623",
         "2008"
        ],
        [
         "42",
         "2612.0154112627533",
         "2013"
        ],
        [
         "43",
         "2957.6811098887447",
         "2012"
        ],
        [
         "44",
         "2544.516801769428",
         "2016"
        ],
        [
         "45",
         "1833.1964030710933",
         "2022"
        ],
        [
         "46",
         "2607.6950038058926",
         "2019"
        ],
        [
         "47",
         "3858.9146336751146",
         "2006"
        ],
        [
         "48",
         "2531.185247040718",
         "2016"
        ],
        [
         "49",
         "3602.664482911108",
         "2015"
        ]
       ],
       "shape": {
        "columns": 2,
        "rows": 9704
       }
      },
      "text/html": [
       "<div>\n",
       "<style scoped>\n",
       "    .dataframe tbody tr th:only-of-type {\n",
       "        vertical-align: middle;\n",
       "    }\n",
       "\n",
       "    .dataframe tbody tr th {\n",
       "        vertical-align: top;\n",
       "    }\n",
       "\n",
       "    .dataframe thead th {\n",
       "        text-align: right;\n",
       "    }\n",
       "</style>\n",
       "<table border=\"1\" class=\"dataframe\">\n",
       "  <thead>\n",
       "    <tr style=\"text-align: right;\">\n",
       "      <th></th>\n",
       "      <th>vehicle_weight</th>\n",
       "      <th>model_year</th>\n",
       "    </tr>\n",
       "  </thead>\n",
       "  <tbody>\n",
       "    <tr>\n",
       "      <th>0</th>\n",
       "      <td>3413.433759</td>\n",
       "      <td>2003</td>\n",
       "    </tr>\n",
       "    <tr>\n",
       "      <th>1</th>\n",
       "      <td>3149.664934</td>\n",
       "      <td>2007</td>\n",
       "    </tr>\n",
       "    <tr>\n",
       "      <th>2</th>\n",
       "      <td>3079.038997</td>\n",
       "      <td>2018</td>\n",
       "    </tr>\n",
       "    <tr>\n",
       "      <th>3</th>\n",
       "      <td>2542.392402</td>\n",
       "      <td>2009</td>\n",
       "    </tr>\n",
       "    <tr>\n",
       "      <th>4</th>\n",
       "      <td>3460.870990</td>\n",
       "      <td>2009</td>\n",
       "    </tr>\n",
       "    <tr>\n",
       "      <th>...</th>\n",
       "      <td>...</td>\n",
       "      <td>...</td>\n",
       "    </tr>\n",
       "    <tr>\n",
       "      <th>9699</th>\n",
       "      <td>2981.107371</td>\n",
       "      <td>2013</td>\n",
       "    </tr>\n",
       "    <tr>\n",
       "      <th>9700</th>\n",
       "      <td>2439.525729</td>\n",
       "      <td>2004</td>\n",
       "    </tr>\n",
       "    <tr>\n",
       "      <th>9701</th>\n",
       "      <td>2583.471318</td>\n",
       "      <td>2008</td>\n",
       "    </tr>\n",
       "    <tr>\n",
       "      <th>9702</th>\n",
       "      <td>2905.527390</td>\n",
       "      <td>2011</td>\n",
       "    </tr>\n",
       "    <tr>\n",
       "      <th>9703</th>\n",
       "      <td>2908.043477</td>\n",
       "      <td>2005</td>\n",
       "    </tr>\n",
       "  </tbody>\n",
       "</table>\n",
       "<p>9704 rows × 2 columns</p>\n",
       "</div>"
      ],
      "text/plain": [
       "      vehicle_weight  model_year\n",
       "0        3413.433759        2003\n",
       "1        3149.664934        2007\n",
       "2        3079.038997        2018\n",
       "3        2542.392402        2009\n",
       "4        3460.870990        2009\n",
       "...              ...         ...\n",
       "9699     2981.107371        2013\n",
       "9700     2439.525729        2004\n",
       "9701     2583.471318        2008\n",
       "9702     2905.527390        2011\n",
       "9703     2908.043477        2005\n",
       "\n",
       "[9704 rows x 2 columns]"
      ]
     },
     "execution_count": 16,
     "metadata": {},
     "output_type": "execute_result"
    }
   ],
   "source": [
    "# Select only columns vehicle_weight and model_year\n",
    "vehicleWeightModelYear = df[['vehicle_weight','model_year']]\n",
    "vehicleWeightModelYear"
   ]
  },
  {
   "cell_type": "code",
   "execution_count": 17,
   "id": "0eb7d95d",
   "metadata": {},
   "outputs": [
    {
     "data": {
      "application/vnd.microsoft.datawrangler.viewer.v0+json": {
       "columns": [
        {
         "name": "index",
         "rawType": "int64",
         "type": "integer"
        },
        {
         "name": "vehicle_weight",
         "rawType": "float64",
         "type": "float"
        },
        {
         "name": "model_year",
         "rawType": "int64",
         "type": "integer"
        }
       ],
       "ref": "c059efd8-7e21-44b6-92d4-d3d430f87a5f",
       "rows": [
        [
         "0",
         "3413.433758606219",
         "2003"
        ],
        [
         "1",
         "3149.664934220036",
         "2007"
        ],
        [
         "2",
         "3079.03899736884",
         "2018"
        ],
        [
         "3",
         "2542.392401828378",
         "2009"
        ],
        [
         "4",
         "3460.870989989018",
         "2009"
        ],
        [
         "5",
         "2484.883986036068",
         "2008"
        ],
        [
         "6",
         "3006.5422872171457",
         "2012"
        ]
       ],
       "shape": {
        "columns": 2,
        "rows": 7
       }
      },
      "text/html": [
       "<div>\n",
       "<style scoped>\n",
       "    .dataframe tbody tr th:only-of-type {\n",
       "        vertical-align: middle;\n",
       "    }\n",
       "\n",
       "    .dataframe tbody tr th {\n",
       "        vertical-align: top;\n",
       "    }\n",
       "\n",
       "    .dataframe thead th {\n",
       "        text-align: right;\n",
       "    }\n",
       "</style>\n",
       "<table border=\"1\" class=\"dataframe\">\n",
       "  <thead>\n",
       "    <tr style=\"text-align: right;\">\n",
       "      <th></th>\n",
       "      <th>vehicle_weight</th>\n",
       "      <th>model_year</th>\n",
       "    </tr>\n",
       "  </thead>\n",
       "  <tbody>\n",
       "    <tr>\n",
       "      <th>0</th>\n",
       "      <td>3413.433759</td>\n",
       "      <td>2003</td>\n",
       "    </tr>\n",
       "    <tr>\n",
       "      <th>1</th>\n",
       "      <td>3149.664934</td>\n",
       "      <td>2007</td>\n",
       "    </tr>\n",
       "    <tr>\n",
       "      <th>2</th>\n",
       "      <td>3079.038997</td>\n",
       "      <td>2018</td>\n",
       "    </tr>\n",
       "    <tr>\n",
       "      <th>3</th>\n",
       "      <td>2542.392402</td>\n",
       "      <td>2009</td>\n",
       "    </tr>\n",
       "    <tr>\n",
       "      <th>4</th>\n",
       "      <td>3460.870990</td>\n",
       "      <td>2009</td>\n",
       "    </tr>\n",
       "    <tr>\n",
       "      <th>5</th>\n",
       "      <td>2484.883986</td>\n",
       "      <td>2008</td>\n",
       "    </tr>\n",
       "    <tr>\n",
       "      <th>6</th>\n",
       "      <td>3006.542287</td>\n",
       "      <td>2012</td>\n",
       "    </tr>\n",
       "  </tbody>\n",
       "</table>\n",
       "</div>"
      ],
      "text/plain": [
       "   vehicle_weight  model_year\n",
       "0     3413.433759        2003\n",
       "1     3149.664934        2007\n",
       "2     3079.038997        2018\n",
       "3     2542.392402        2009\n",
       "4     3460.870990        2009\n",
       "5     2484.883986        2008\n",
       "6     3006.542287        2012"
      ]
     },
     "execution_count": 17,
     "metadata": {},
     "output_type": "execute_result"
    }
   ],
   "source": [
    "# select the  first 7 values\n",
    "vehicleWeightModelYear.head(7)\n"
   ]
  },
  {
   "cell_type": "code",
   "execution_count": 18,
   "id": "ff955a13",
   "metadata": {},
   "outputs": [
    {
     "data": {
      "text/plain": [
       "array([[3413.43375861, 2003.        ],\n",
       "       [3149.66493422, 2007.        ],\n",
       "       [3079.03899737, 2018.        ],\n",
       "       ...,\n",
       "       [2583.47131761, 2008.        ],\n",
       "       [2905.52738998, 2011.        ],\n",
       "       [2908.04347736, 2005.        ]])"
      ]
     },
     "execution_count": 18,
     "metadata": {},
     "output_type": "execute_result"
    }
   ],
   "source": [
    "# Get the underlying NumPy array. Let's call it X\n",
    "x = vehicleWeightModelYear.to_numpy()\n",
    "x"
   ]
  },
  {
   "cell_type": "code",
   "execution_count": 19,
   "id": "f6feb8ed",
   "metadata": {},
   "outputs": [
    {
     "data": {
      "text/plain": [
       "array([[8.98159673e+10, 5.85831378e+10],\n",
       "       [5.85831378e+10, 3.92634741e+10]])"
      ]
     },
     "execution_count": 19,
     "metadata": {},
     "output_type": "execute_result"
    }
   ],
   "source": [
    "# Compute matrix-matrix multiplication between the transpose of X and X. To get the transpose, use X.T. Let's call the result XTX\n",
    "xtx = x.T.dot(x)\n",
    "xtx"
   ]
  },
  {
   "cell_type": "code",
   "execution_count": 24,
   "id": "355d5d08",
   "metadata": {},
   "outputs": [
    {
     "data": {
      "text/plain": [
       "array([[ 4.15473853e-10, -6.19908516e-10],\n",
       "       [-6.19908516e-10,  9.50404590e-10]])"
      ]
     },
     "execution_count": 24,
     "metadata": {},
     "output_type": "execute_result"
    }
   ],
   "source": [
    "# Invert XTX\n",
    "import numpy as np\n",
    "xtx_inv = np.linalg.inv(xtx)\n",
    "xtx_inv"
   ]
  },
  {
   "cell_type": "code",
   "execution_count": 25,
   "id": "5609973c",
   "metadata": {},
   "outputs": [
    {
     "data": {
      "text/plain": [
       "array([1100, 1300,  800,  900, 1000, 1100, 1200])"
      ]
     },
     "execution_count": 25,
     "metadata": {},
     "output_type": "execute_result"
    }
   ],
   "source": [
    "# Create an array y with values [1100, 1300, 800, 900, 1000, 1100, 1200]\n",
    "y = np.array([1100, 1300, 800, 900, 1000, 1100, 1200])\n",
    "y"
   ]
  },
  {
   "cell_type": "code",
   "execution_count": 26,
   "id": "be95db01",
   "metadata": {},
   "outputs": [
    {
     "data": {
      "text/plain": [
       "array([[ 1.76515719e-07,  6.44470349e-08,  2.82848111e-08, ...,\n",
       "        -1.71411517e-07, -3.94653655e-08, -3.47005459e-08],\n",
       "       [-2.12356264e-07, -4.50421050e-08,  9.19396523e-09, ...,\n",
       "         3.06896544e-07,  1.10102456e-07,  1.02840285e-07]])"
      ]
     },
     "execution_count": 26,
     "metadata": {},
     "output_type": "execute_result"
    }
   ],
   "source": [
    "# Multiply the inverse of XTX with the transpose of X\n",
    "imt = xtx_inv.dot(x.T)\n",
    "imt\n"
   ]
  },
  {
   "cell_type": "code",
   "execution_count": 27,
   "id": "b66d8375",
   "metadata": {},
   "outputs": [
    {
     "data": {
      "text/plain": [
       "array([[ 1.76515719e-07,  6.44470349e-08,  2.82848111e-08, ...,\n",
       "        -1.71411517e-07, -3.94653655e-08, -3.47005459e-08],\n",
       "       [-2.12356264e-07, -4.50421050e-08,  9.19396523e-09, ...,\n",
       "         3.06896544e-07,  1.10102456e-07,  1.02840285e-07]])"
      ]
     },
     "execution_count": 27,
     "metadata": {},
     "output_type": "execute_result"
    }
   ],
   "source": [
    "# multiply imt by y. Call the result w\n",
    "imt\n"
   ]
  },
  {
   "cell_type": "code",
   "execution_count": 31,
   "id": "266c1986",
   "metadata": {},
   "outputs": [
    {
     "data": {
      "text/plain": [
       "array([9.15440609e-05, 2.42061149e-04])"
      ]
     },
     "execution_count": 31,
     "metadata": {},
     "output_type": "execute_result"
    }
   ],
   "source": [
    "# Use only the first 7 rows of x to match the length of y\n",
    "imt7 = xtx_inv.dot(x[:7].T)\n",
    "w = imt7.dot(y)\n",
    "w"
   ]
  },
  {
   "cell_type": "code",
   "execution_count": 32,
   "id": "baec71c8",
   "metadata": {},
   "outputs": [
    {
     "data": {
      "text/plain": [
       "0.000333605209891389"
      ]
     },
     "execution_count": 32,
     "metadata": {},
     "output_type": "execute_result"
    }
   ],
   "source": [
    "#What's the sum of all the elements of the result?\n",
    "sum_w = w.sum()\n",
    "sum_w"
   ]
  }
 ],
 "metadata": {
  "kernelspec": {
   "display_name": "base",
   "language": "python",
   "name": "python3"
  },
  "language_info": {
   "codemirror_mode": {
    "name": "ipython",
    "version": 3
   },
   "file_extension": ".py",
   "mimetype": "text/x-python",
   "name": "python",
   "nbconvert_exporter": "python",
   "pygments_lexer": "ipython3",
   "version": "3.12.7"
  }
 },
 "nbformat": 4,
 "nbformat_minor": 5
}
